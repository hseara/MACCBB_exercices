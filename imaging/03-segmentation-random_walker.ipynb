{
 "cells": [
  {
   "cell_type": "markdown",
   "metadata": {},
   "source": [
    "# Using python to manipulate images - skimage\n",
    "\n",
    "http://scikit-image.org"
   ]
  },
  {
   "cell_type": "markdown",
   "metadata": {},
   "source": [
    "## Segmentation image - Random walker\n",
    "\n",
    "http://scikit-image.org/docs/dev/auto_examples/segmentation/plot_random_walker_segmentation.html\n",
    "\n",
    "The random walker algorithm [1] determines the segmentation of an image from a set of markers labeling several phases (2 or more). An anisotropic diffusion equation is solved with tracers initiated at the markers’ position. The local diffusivity coefficient is greater if neighboring pixels have similar values, so that diffusion is difficult across high gradients. The label of each unknown pixel is attributed to the label of the known marker that has the highest probability to be reached first during this diffusion process.\n",
    "\n",
    "In this example, two phases are clearly visible, but the data are too noisy to perform the segmentation from the histogram only. We determine markers of the two phases from the extreme tails of the histogram of gray values, and use the random walker for the segmentation.\n",
    "\n",
    "![image info](./figs/sphx_glr_plot_random_walker_segmentation_001.png)\n",
    "\n",
    "\n",
    "[1]\tRandom walks for image segmentation, Leo Grady, IEEE Trans. Pattern Anal. Mach. Intell. 2006 Nov; 28(11):1768-83 DOI:10.1109/TPAMI.2006.233"
   ]
  },
  {
   "cell_type": "markdown",
   "metadata": {},
   "source": [
    "## General loading modules"
   ]
  },
  {
   "cell_type": "code",
   "execution_count": null,
   "metadata": {},
   "outputs": [],
   "source": [
    "%matplotlib inline\n",
    "import numpy as np\n",
    "import matplotlib.pyplot as plt\n",
    "import skimage"
   ]
  },
  {
   "cell_type": "markdown",
   "metadata": {},
   "source": [
    "## Generate noisy synthetic data"
   ]
  },
  {
   "cell_type": "markdown",
   "metadata": {},
   "source": [
    "### Generate blobs"
   ]
  },
  {
   "cell_type": "code",
   "execution_count": null,
   "metadata": {},
   "outputs": [],
   "source": [
    "from skimage.data import binary_blobs\n",
    "\n",
    "\n",
    "data_binary = skimage.img_as_float(binary_blobs(length=128, seed=1))\n",
    "print(data_binary)\n",
    "plt.imshow(data_binary, cmap='gray')\n",
    "plt.show()"
   ]
  },
  {
   "cell_type": "markdown",
   "metadata": {},
   "source": [
    "### Add noise"
   ]
  },
  {
   "cell_type": "code",
   "execution_count": null,
   "metadata": {},
   "outputs": [],
   "source": [
    "sigma = 0.35\n",
    "data_noisy = data_binary + np.random.normal(loc=0, scale=sigma, size=data_binary.shape)\n",
    "print(data_noisy)\n",
    "plt.imshow(data_noisy, cmap='gray')\n",
    "plt.show()"
   ]
  },
  {
   "cell_type": "markdown",
   "metadata": {},
   "source": [
    "### Rescale intensities between -1 and 1"
   ]
  },
  {
   "cell_type": "code",
   "execution_count": null,
   "metadata": {},
   "outputs": [],
   "source": [
    "data_noisy_rescaled = skimage.exposure.rescale_intensity(data_noisy, in_range=(-sigma, 1 + sigma),\n",
    "                               out_range=(-1, 1))\n",
    "print(data_noisy)\n",
    "plt.imshow(data_noisy, cmap='gray')\n",
    "plt.show()"
   ]
  },
  {
   "cell_type": "markdown",
   "metadata": {},
   "source": [
    "At this point the range of the binary image spans over (-1, 1)."
   ]
  },
  {
   "cell_type": "markdown",
   "metadata": {},
   "source": [
    "## Select markers\n",
    "\n",
    "We choose the hottest and the coldest pixels as markers.\n",
    "\n",
    "\\[The range of the binary image spans over (-1, 1)\\]"
   ]
  },
  {
   "cell_type": "code",
   "execution_count": null,
   "metadata": {},
   "outputs": [],
   "source": [
    "markers = np.zeros(data_noisy_rescaled.shape, dtype=np.uint)\n",
    "markers[data_noisy_rescaled < -0.95] = 1\n",
    "markers[data_noisy_rescaled > 0.95] = 2\n",
    "plt.imshow(markers, cmap='magma', interpolation='nearest')\n",
    "plt.show()"
   ]
  },
  {
   "cell_type": "markdown",
   "metadata": {},
   "source": [
    "## Run random walker algorithm"
   ]
  },
  {
   "cell_type": "code",
   "execution_count": null,
   "metadata": {},
   "outputs": [],
   "source": [
    "import skimage.segmentation\n",
    "labels = skimage.segmentation.random_walker(data_noisy_rescaled, markers, beta=10, mode='bf')\n",
    "print(labels)\n",
    "plt.imshow(labels, cmap='gray', interpolation='nearest')\n",
    "plt.show()"
   ]
  },
  {
   "cell_type": "markdown",
   "metadata": {},
   "source": [
    "## Plot results"
   ]
  },
  {
   "cell_type": "code",
   "execution_count": null,
   "metadata": {},
   "outputs": [],
   "source": [
    "# Plot results\n",
    "fig, (ax1, ax2, ax3) = plt.subplots(1, 3, figsize=(8, 3.2),\n",
    "                                    sharex=True, sharey=True)\n",
    "ax1.imshow(data_noisy_rescaled, cmap='gray', interpolation='nearest')\n",
    "ax1.axis('off')\n",
    "ax1.set_title('Noisy data')\n",
    "ax2.imshow(markers, cmap='magma', interpolation='nearest')\n",
    "ax2.axis('off')\n",
    "ax2.set_title('Markers')\n",
    "ax3.imshow(labels, cmap='gray', interpolation='nearest')\n",
    "ax3.axis('off')\n",
    "ax3.set_title('Segmentation')\n",
    "\n",
    "fig.tight_layout()\n",
    "plt.show()"
   ]
  }
 ],
 "metadata": {
  "kernelspec": {
   "display_name": "Python 3",
   "language": "python",
   "name": "python3"
  },
  "language_info": {
   "codemirror_mode": {
    "name": "ipython",
    "version": 3
   },
   "file_extension": ".py",
   "mimetype": "text/x-python",
   "name": "python",
   "nbconvert_exporter": "python",
   "pygments_lexer": "ipython3",
   "version": "3.7.1"
  }
 },
 "nbformat": 4,
 "nbformat_minor": 2
}
