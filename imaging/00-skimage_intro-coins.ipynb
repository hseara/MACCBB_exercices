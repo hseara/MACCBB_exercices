{
 "cells": [
  {
   "cell_type": "markdown",
   "metadata": {},
   "source": [
    "# Using python to manipulate images - skimage\n",
    "\n",
    "http://scikit-image.org"
   ]
  },
  {
   "cell_type": "code",
   "execution_count": null,
   "metadata": {},
   "outputs": [],
   "source": [
    "%matplotlib inline\n",
    "import matplotlib.pyplot as plt\n",
    "\n",
    "import numpy as np\n",
    "\n",
    "from skimage import data,filters,segmentation,measure,morphology"
   ]
  },
  {
   "cell_type": "code",
   "execution_count": null,
   "metadata": {},
   "outputs": [],
   "source": [
    "# Parameters figures\n",
    "plt.rcParams['figure.figsize'] = (15.0, 8.0)"
   ]
  },
  {
   "cell_type": "markdown",
   "metadata": {},
   "source": [
    "## Load an image"
   ]
  },
  {
   "cell_type": "code",
   "execution_count": null,
   "metadata": {},
   "outputs": [],
   "source": [
    "image = data.coins()   # ... or any other NumPy array!\n",
    "plt.imshow(image,cmap='gray')\n",
    "plt.show()"
   ]
  },
  {
   "cell_type": "markdown",
   "metadata": {},
   "source": [
    "## Image as an array"
   ]
  },
  {
   "cell_type": "code",
   "execution_count": null,
   "metadata": {},
   "outputs": [],
   "source": [
    "print(\"Type image = {0}\\n\".format(type(image)))\n",
    "print(\"{0}\\n\".format(image))"
   ]
  },
  {
   "cell_type": "markdown",
   "metadata": {},
   "source": [
    "## Resolution image and bit depth"
   ]
  },
  {
   "cell_type": "code",
   "execution_count": null,
   "metadata": {},
   "outputs": [],
   "source": [
    "print(\"Shape image = {0}\\n\".format(image.shape))\n",
    "\n",
    "print(\"Type pixel = {0}\\n\".format(type(image[0][0])))\n",
    "\n",
    "print(\"Max value pixel = {0}\".format(image.max()))\n",
    "print(\"Min value pixel = {0}\".format(image.min()))"
   ]
  },
  {
   "cell_type": "markdown",
   "metadata": {},
   "source": [
    "## Mask (thresholding) image"
   ]
  },
  {
   "cell_type": "code",
   "execution_count": null,
   "metadata": {},
   "outputs": [],
   "source": [
    "print(\"Max value pixel = {0}\".format(image.max()))\n",
    "print(\"Min value pixel = {0}\".format(image.min()))\n",
    "mask_smaller = image < 140\n",
    "mask_bigger  = image > 140\n",
    "\n",
    "#plot 3 panels: image | noise | image with noise\n",
    "f, axarr = plt.subplots(nrows=1, ncols=3, sharey = True, squeeze=True)\n",
    "axarr[0].imshow(image, cmap='gray')\n",
    "axarr[1].imshow(mask_bigger, cmap='gray')\n",
    "axarr[2].imshow(mask_smaller, cmap='gray')\n",
    "plt.show()"
   ]
  },
  {
   "cell_type": "markdown",
   "metadata": {},
   "source": [
    "## Random noise image"
   ]
  },
  {
   "cell_type": "code",
   "execution_count": null,
   "metadata": {},
   "outputs": [],
   "source": [
    "noise = np.random.uniform(low=0.5, high=1.0, size=image.shape)\n",
    "print(\"Max value pixel = {0}\".format(noise.max()))\n",
    "print(\"Min value pixel = {0}\".format(noise.min()))\n",
    "image_with_noise = image * noise\n",
    "\n",
    "#plot 3 panels: image | noise | image with noise\n",
    "f, axarr = plt.subplots(nrows=1, ncols=3, sharey = True, squeeze=True)\n",
    "axarr[0].imshow(image, cmap='gray')\n",
    "axarr[1].imshow(noise, cmap='gray')\n",
    "axarr[2].imshow(image_with_noise, cmap='gray')\n",
    "plt.show()"
   ]
  },
  {
   "cell_type": "markdown",
   "metadata": {},
   "source": [
    "## Filter image"
   ]
  },
  {
   "cell_type": "markdown",
   "metadata": {},
   "source": [
    "### - gaussian filter"
   ]
  },
  {
   "cell_type": "code",
   "execution_count": null,
   "metadata": {},
   "outputs": [],
   "source": [
    "fimage = filters.gaussian(image)\n",
    "\n",
    "#plot 2 panels: image | filtered image\n",
    "f, axarr = plt.subplots(nrows=1, ncols=2, sharey = True, squeeze=True)\n",
    "axarr[0].imshow(image, cmap='gray')\n",
    "axarr[1].imshow(fimage, cmap='gray')\n",
    "plt.show()\n",
    "\n",
    "fimage_with_noise = filters.gaussian(image_with_noise)\n",
    "\n",
    "#plot 2 panels: image_with_noise | filtered image_with_noise\n",
    "f, axarr = plt.subplots(nrows=1, ncols=2, sharey = True, squeeze=True, figsize=(15, 6))\n",
    "axarr[0].imshow(image_with_noise, cmap='gray')\n",
    "axarr[1].imshow(fimage_with_noise, cmap='gray')\n",
    "plt.show()"
   ]
  },
  {
   "cell_type": "markdown",
   "metadata": {},
   "source": [
    "### - Sobel filter\n",
    "\n",
    "Find the edge magnitude using the Sobel transform."
   ]
  },
  {
   "cell_type": "code",
   "execution_count": null,
   "metadata": {},
   "outputs": [],
   "source": [
    "fimage = filters.sobel(image)\n",
    "\n",
    "#plot 2 panels: image | filtered image\n",
    "f, axarr = plt.subplots(nrows=1, ncols=2, sharey = True, squeeze=True)\n",
    "axarr[0].imshow(image, cmap='gray')\n",
    "axarr[1].imshow(fimage, cmap='gray')\n",
    "plt.show()\n",
    "\n",
    "fimage_with_noise = filters.sobel(image_with_noise)\n",
    "\n",
    "#plot 2 panels: image_with_noise | filtered image_with_noise\n",
    "f, axarr = plt.subplots(nrows=1, ncols=2, sharey = True, squeeze=True)\n",
    "axarr[0].imshow(image_with_noise, cmap='gray')\n",
    "axarr[1].imshow(fimage_with_noise, cmap='gray')\n",
    "plt.show()"
   ]
  },
  {
   "cell_type": "markdown",
   "metadata": {},
   "source": [
    "### - Sobel filter in different directions\n",
    "\n",
    "    1) Find the horizontal edges of an image using the Sobel transform.\n",
    "    2) Find the vertical edges of an image using the Sobel transform.  "
   ]
  },
  {
   "cell_type": "code",
   "execution_count": null,
   "metadata": {},
   "outputs": [],
   "source": [
    "fimage   = filters.sobel(image)\n",
    "fimage_h = filters.sobel_h(image)\n",
    "fimage_v = filters.sobel_v(image)\n",
    "\n",
    "#plot 2 panels: image | filtered images\n",
    "f, axarr = plt.subplots(nrows=1, ncols=2)\n",
    "axarr[0].imshow(image, cmap='gray')\n",
    "axarr[1].imshow(fimage, cmap='gray')\n",
    "plt.show()\n",
    "\n",
    "#plot 4 panels: 2 different filter directions\n",
    "f, axarr = plt.subplots(nrows=1, ncols=2)\n",
    "axarr[0].imshow(fimage_h, cmap='gray')\n",
    "axarr[1].imshow(fimage_v, cmap='gray')\n",
    "plt.show()"
   ]
  },
  {
   "cell_type": "markdown",
   "metadata": {},
   "source": [
    "### Different transforms that allow us to find edges\n",
    "    1) Sobel transform\n",
    "    2) Prewitt transform\n",
    "    3) Roberts’ cross operator\n",
    "    4) Scharr transform"
   ]
  },
  {
   "cell_type": "code",
   "execution_count": null,
   "metadata": {},
   "outputs": [],
   "source": [
    "fimage1   = filters.sobel(image)\n",
    "fimage2   = filters.prewitt(image)\n",
    "fimage3   = filters.roberts(image)\n",
    "fimage4   = filters.scharr(image)\n",
    "\n",
    "#plot 2 panels: image | filtered images\n",
    "f, axarr = plt.subplots(nrows=1, ncols=2)\n",
    "axarr[0].imshow(fimage1, cmap='gray')\n",
    "axarr[1].imshow(fimage2, cmap='gray')\n",
    "plt.show()\n",
    "\n",
    "#plot 4 panels: 2 different filter directions\n",
    "f, axarr = plt.subplots(nrows=1, ncols=2)\n",
    "axarr[0].imshow(fimage3, cmap='gray')\n",
    "axarr[1].imshow(fimage4, cmap='gray')\n",
    "plt.show()"
   ]
  },
  {
   "cell_type": "markdown",
   "metadata": {},
   "source": [
    "### Other filters"
   ]
  },
  {
   "cell_type": "code",
   "execution_count": null,
   "metadata": {},
   "outputs": [],
   "source": [
    "# Find the edges of an image using the Laplace operator.\n",
    "fimage1   = filters.laplace(image, ksize=3)\n",
    "\n",
    "#plot 2 panels: image | filtered images\n",
    "f, axarr = plt.subplots(nrows=1, ncols=2)\n",
    "axarr[0].imshow(image, cmap='gray')\n",
    "axarr[1].imshow(fimage1, cmap='gray')\n",
    "plt.show()"
   ]
  },
  {
   "cell_type": "code",
   "execution_count": null,
   "metadata": {},
   "outputs": [],
   "source": [
    "#Preparation mask\n",
    "mask_array = np.zeros((303,384), bool)\n",
    "mask_array[100:200,100:200] = 1\n",
    "\n",
    "# Laplace filtering\n",
    "fimage1   = filters.laplace(image, ksize=3, mask=mask_array)\n",
    "\n",
    "#plot 2 panels: image | filtered images\n",
    "f, axarr = plt.subplots(nrows=1, ncols=2)\n",
    "axarr[0].imshow(mask_array, cmap='gray')\n",
    "axarr[1].imshow(fimage1, cmap='gray')\n",
    "plt.show()"
   ]
  },
  {
   "cell_type": "code",
   "execution_count": null,
   "metadata": {},
   "outputs": [],
   "source": [
    "#Returns a figure comparing the outputs of different thresholding methods.\n",
    "fimage1   = filters.try_all_threshold(image,figsize=(16,10), verbose=False)"
   ]
  },
  {
   "cell_type": "markdown",
   "metadata": {},
   "source": [
    "## Segmentation image - Random walker"
   ]
  },
  {
   "cell_type": "code",
   "execution_count": null,
   "metadata": {},
   "outputs": [],
   "source": [
    "markers = np.zeros(image.shape, dtype=np.uint)\n",
    "markers[image < 100] = 1\n",
    "markers[image >200] = 2\n",
    "\n",
    "segments = segmentation.random_walker(image, markers, beta=10, mode='bf')\n",
    "plt.imshow(segments, cmap='gray')\n",
    "plt.show()"
   ]
  },
  {
   "cell_type": "code",
   "execution_count": null,
   "metadata": {},
   "outputs": [],
   "source": [
    "\n",
    "from skimage.measure import label\n",
    "from skimage.segmentation import slic, join_segmentations\n",
    "from skimage.color import label2rgb\n",
    "\n",
    "\n",
    "coins = data.coins() \n",
    "\n",
    "# Make segmentation using edge-detection and watershed.\n",
    "edges = filters.sobel(coins)\n",
    "\n",
    "# Identify some background and foreground pixels from the intensity values.\n",
    "# These pixels are used as seeds for watershed.\n",
    "markers = np.zeros_like(coins)\n",
    "foreground, background = 1, 2\n",
    "markers[coins < 30.0] = background\n",
    "markers[coins > 150.0] = foreground\n",
    "\n",
    "ws = morphology.watershed(edges, markers)\n",
    "seg1 = measure.label(ws == foreground)\n",
    "\n",
    "\n",
    "# Show the segmentations.\n",
    "f, axarr = plt.subplots(nrows=1, ncols=2, figsize=(15,8))\n",
    "\n",
    "axarr[0].imshow(coins, cmap='gray')\n",
    "axarr[0].set_title('Image')\n",
    "\n",
    "color1 = label2rgb(seg1, image=coins, bg_label=0)\n",
    "axarr[1].imshow(color1)\n",
    "axarr[1].set_title('Sobel+Watershed')\n",
    "\n",
    "#for a in axarr:\n",
    "#    a.axis('off')\n",
    "plt.tight_layout()\n",
    "plt.show()"
   ]
  },
  {
   "cell_type": "code",
   "execution_count": null,
   "metadata": {},
   "outputs": [],
   "source": [
    "# Make segmentation using SLIC superpixels.\n",
    "seg2 = slic(coins, n_segments=117, max_iter=160, sigma=1, compactness=0.75,\n",
    "            multichannel=False)\n",
    "\n",
    "# Combine the two.\n",
    "segj = join_segmentations(seg1, seg2)\n",
    "\n",
    "# Show the segmentations.\n",
    "fig, axes = plt.subplots(ncols=2, nrows=2, figsize=(9, 5),\n",
    "                         sharex=True, sharey=True)\n",
    "ax = axes.ravel()\n",
    "ax[0].imshow(coins, cmap='gray')\n",
    "ax[0].set_title('Image')\n",
    "\n",
    "color1 = label2rgb(seg1, image=coins, bg_label=0)\n",
    "ax[1].imshow(color1)\n",
    "ax[1].set_title('Sobel+Watershed')\n",
    "\n",
    "color2 = label2rgb(seg2, image=coins, image_alpha=0.5)\n",
    "ax[2].imshow(color2)\n",
    "ax[2].set_title('SLIC superpixels')\n",
    "\n",
    "color3 = label2rgb(segj, image=coins, image_alpha=0.5)\n",
    "ax[3].imshow(color3)\n",
    "ax[3].set_title('Join')\n",
    "\n",
    "for a in ax:\n",
    "    a.axis('off')\n",
    "fig.tight_layout()\n",
    "plt.show()"
   ]
  },
  {
   "cell_type": "code",
   "execution_count": null,
   "metadata": {},
   "outputs": [],
   "source": []
  }
 ],
 "metadata": {
  "kernelspec": {
   "display_name": "Python 3",
   "language": "python",
   "name": "python3"
  },
  "language_info": {
   "codemirror_mode": {
    "name": "ipython",
    "version": 3
   },
   "file_extension": ".py",
   "mimetype": "text/x-python",
   "name": "python",
   "nbconvert_exporter": "python",
   "pygments_lexer": "ipython3",
   "version": "3.7.3"
  }
 },
 "nbformat": 4,
 "nbformat_minor": 2
}
