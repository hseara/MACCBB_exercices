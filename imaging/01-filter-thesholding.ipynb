{
 "cells": [
  {
   "cell_type": "code",
   "execution_count": null,
   "metadata": {},
   "outputs": [],
   "source": [
    "%matplotlib inline\n",
    "import matplotlib.pyplot as plt\n",
    "\n",
    "import numpy as np\n",
    "\n",
    "#from skimage import data,filters,segmentation,morphology,exposure,draw,util\n",
    "from skimage import exposure,filters\n",
    "from skimage import io as skio"
   ]
  },
  {
   "cell_type": "code",
   "execution_count": null,
   "metadata": {},
   "outputs": [],
   "source": [
    "# Parameters figures\n",
    "plt.rcParams['figure.figsize'] = (15.0, 8.0)\n",
    "#plt.rcParams['image.interpolation'] = 'nearest'\n",
    "plt.rcParams['image.cmap'] = 'gray'\n",
    "#plt.rcParams['figure.dpi'] = 600"
   ]
  },
  {
   "cell_type": "code",
   "execution_count": null,
   "metadata": {},
   "outputs": [],
   "source": [
    "# Read tiff image\n",
    "\n",
    "#Original image\n",
    "img = skio.imread(\"figs/NHAwt_NaCl_c1_488nm_60x_4x10ux_RPM180-1.tif\")\n",
    "#corrected exposure mixture (High contrast)\n",
    "img_corrected_exposure = exposure.adjust_log(img, gain=30)\n",
    "\n",
    "f, axarr = plt.subplots(nrows=1, ncols=2, figsize=(12.0, 12.0))\n",
    "axarr[0].set_title('Original')\n",
    "axarr[0].imshow(img)\n",
    "axarr[1].set_title('Logarithmic correction')\n",
    "axarr[1].imshow(img_corrected_exposure)\n",
    "plt.show()"
   ]
  },
  {
   "cell_type": "markdown",
   "metadata": {},
   "source": [
    "# Segmentation"
   ]
  },
  {
   "cell_type": "markdown",
   "metadata": {},
   "source": [
    "## Thresholding"
   ]
  },
  {
   "cell_type": "code",
   "execution_count": null,
   "metadata": {},
   "outputs": [],
   "source": [
    "\n",
    "global_thresh = filters.threshold_otsu(img)\n",
    "binary_global = img > global_thresh\n",
    "\n",
    "block_size = 35\n",
    "binary_adaptive = filters.threshold_local(img, block_size, offset=10)\n",
    "\n",
    "plt.gray()\n",
    "\n",
    "f, axarr = plt.subplots(nrows=1, ncols=3)\n",
    "axarr[0].imshow(img)\n",
    "axarr[0].set_title('Image')\n",
    "\n",
    "axarr[1].imshow(binary_global)\n",
    "axarr[1].set_title('Global thresholding')\n",
    "\n",
    "axarr[2].imshow(binary_adaptive)\n",
    "axarr[2].set_title('Adaptive thresholding')\n",
    "\n",
    "for ax in axarr:\n",
    "    ax.axis('off')\n",
    "plt.show()\n",
    "\n",
    "f, axarr = plt.subplots(nrows=1, ncols=3)\n",
    "axarr[0].imshow(img_corrected_exposure)\n",
    "axarr[0].set_title('Image over exposed')\n",
    "\n",
    "axarr[1].imshow(binary_global)\n",
    "axarr[1].set_title('Global thresholding')\n",
    "\n",
    "axarr[2].imshow(binary_adaptive)\n",
    "axarr[2].set_title('Adaptive thresholding')\n",
    "\n",
    "for ax in axarr:\n",
    "    ax.axis('off')\n",
    "plt.show()"
   ]
  },
  {
   "cell_type": "code",
   "execution_count": null,
   "metadata": {},
   "outputs": [],
   "source": []
  }
 ],
 "metadata": {
  "kernelspec": {
   "display_name": "Python 3",
   "language": "python",
   "name": "python3"
  },
  "language_info": {
   "codemirror_mode": {
    "name": "ipython",
    "version": 3
   },
   "file_extension": ".py",
   "mimetype": "text/x-python",
   "name": "python",
   "nbconvert_exporter": "python",
   "pygments_lexer": "ipython3",
   "version": "3.7.1"
  }
 },
 "nbformat": 4,
 "nbformat_minor": 2
}
