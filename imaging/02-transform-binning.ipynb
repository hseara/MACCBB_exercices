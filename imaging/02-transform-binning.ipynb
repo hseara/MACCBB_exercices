{
 "cells": [
  {
   "cell_type": "markdown",
   "metadata": {},
   "source": [
    "# Binning reduces size but keeps some features"
   ]
  },
  {
   "cell_type": "code",
   "execution_count": null,
   "metadata": {},
   "outputs": [],
   "source": [
    "%matplotlib inline\n",
    "import matplotlib.pyplot as plt\n",
    "\n",
    "import numpy as np\n",
    "\n",
    "from skimage import data,filters,segmentation,morphology,exposure,draw,util,transform\n",
    "from skimage import io as skio"
   ]
  },
  {
   "cell_type": "code",
   "execution_count": null,
   "metadata": {},
   "outputs": [],
   "source": [
    "# Parameters figures\n",
    "plt.rcParams['figure.figsize'] = (15.0, 8.0)\n",
    "#plt.rcParams['image.interpolation'] = 'nearest'\n",
    "plt.rcParams['image.cmap'] = 'gray'\n",
    "#plt.rcParams['figure.dpi'] = 600"
   ]
  },
  {
   "cell_type": "code",
   "execution_count": null,
   "metadata": {},
   "outputs": [],
   "source": [
    "#Original image\n",
    "img = skio.imread(\"figs/faces.jpg\", as_gray=True)\n",
    "x,y = img.shape"
   ]
  },
  {
   "cell_type": "code",
   "execution_count": null,
   "metadata": {},
   "outputs": [],
   "source": [
    "# 64x\n",
    "downscale = transform.downscale_local_mean(img, (64,64))\n",
    "f, axarr = plt.subplots(nrows=1, ncols=1)\n",
    "axarr.set_title('bining x64')\n",
    "axarr.imshow(downscale)\n",
    "plt.show()"
   ]
  },
  {
   "cell_type": "code",
   "execution_count": null,
   "metadata": {},
   "outputs": [],
   "source": [
    "# 32x\n",
    "downscale = transform.downscale_local_mean(img, (32,32))\n",
    "f, axarr = plt.subplots(nrows=1, ncols=1)\n",
    "axarr.set_title('bining x32')\n",
    "axarr.imshow(downscale)\n",
    "plt.show()"
   ]
  },
  {
   "cell_type": "code",
   "execution_count": null,
   "metadata": {},
   "outputs": [],
   "source": [
    "# 16x\n",
    "downscale = transform.downscale_local_mean(img, (16,16))\n",
    "f, axarr = plt.subplots(nrows=1, ncols=1)\n",
    "axarr.set_title('bining x16')\n",
    "axarr.imshow(downscale)\n",
    "plt.show()"
   ]
  },
  {
   "cell_type": "code",
   "execution_count": null,
   "metadata": {},
   "outputs": [],
   "source": [
    "# 8x\n",
    "downscale = transform.downscale_local_mean(img, (8,8))\n",
    "f, axarr = plt.subplots(nrows=1, ncols=1)\n",
    "axarr.set_title('bining x16')\n",
    "axarr.imshow(downscale)\n",
    "plt.show()"
   ]
  },
  {
   "cell_type": "code",
   "execution_count": null,
   "metadata": {},
   "outputs": [],
   "source": [
    "f, axarr = plt.subplots(nrows=1, ncols=1)\n",
    "axarr.set_title('Original')\n",
    "axarr.imshow(img)\n",
    "plt.show()"
   ]
  },
  {
   "cell_type": "code",
   "execution_count": null,
   "metadata": {},
   "outputs": [],
   "source": []
  }
 ],
 "metadata": {
  "kernelspec": {
   "display_name": "Python 3",
   "language": "python",
   "name": "python3"
  },
  "language_info": {
   "codemirror_mode": {
    "name": "ipython",
    "version": 3
   },
   "file_extension": ".py",
   "mimetype": "text/x-python",
   "name": "python",
   "nbconvert_exporter": "python",
   "pygments_lexer": "ipython3",
   "version": "3.6.8"
  }
 },
 "nbformat": 4,
 "nbformat_minor": 2
}
