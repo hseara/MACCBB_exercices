{
 "cells": [
  {
   "cell_type": "code",
   "execution_count": null,
   "metadata": {},
   "outputs": [],
   "source": [
    "%matplotlib inline\n",
    "import matplotlib.pyplot as plt\n",
    "\n",
    "import numpy as np\n",
    "\n",
    "from skimage import data,filters,segmentation,morphology,exposure,draw,util"
   ]
  },
  {
   "cell_type": "code",
   "execution_count": null,
   "metadata": {},
   "outputs": [],
   "source": [
    "# Parameters figures\n",
    "plt.rcParams['figure.figsize'] = (15.0, 8.0)\n",
    "#plt.rcParams['image.interpolation'] = 'nearest'\n",
    "plt.rcParams['image.cmap'] = 'gray'\n",
    "#plt.rcParams['figure.dpi'] = 600"
   ]
  },
  {
   "cell_type": "code",
   "execution_count": null,
   "metadata": {},
   "outputs": [],
   "source": [
    "import numpy as np\n",
    "from skimage.morphology import watershed\n",
    "from skimage.feature import peak_local_max\n",
    "from skimage import measure\n",
    "from skimage.segmentation import random_walker\n",
    "import matplotlib.pyplot as plt\n",
    "from scipy import ndimage\n",
    "\n",
    "# Generate an initial image with two overlapping circles\n",
    "x, y = np.indices((80, 80))\n",
    "x1, y1, x2, y2 = 28, 28, 44, 52\n",
    "r1, r2 = 16, 20\n",
    "mask_circle1 = (x - x1) ** 2 + (y - y1) ** 2 < r1 ** 2\n",
    "mask_circle2 = (x - x2) ** 2 + (y - y2) ** 2 < r2 ** 2\n",
    "image = np.logical_or(mask_circle1, mask_circle2)\n",
    "# Now we want to separate the two objects in image\n",
    "# Generate the markers as local maxima of the distance\n",
    "# to the background\n",
    "distance = ndimage.distance_transform_edt(image)\n",
    "local_maxi = peak_local_max(\n",
    "    distance, indices=False, footprint=np.ones((3, 3)), labels=image)\n",
    "markers = measure.label(local_maxi)\n",
    "labels_ws = watershed(-distance, markers, mask=image)\n",
    "\n",
    "markers[~image] = -1\n",
    "labels_rw = random_walker(image, markers)\n",
    "\n",
    "plt.figure(figsize=(12, 3.5))\n",
    "plt.subplot(141)\n",
    "plt.imshow(image, cmap='gray', interpolation='nearest')\n",
    "plt.axis('off')\n",
    "plt.title('image')\n",
    "plt.subplot(142)\n",
    "plt.imshow(-distance, interpolation='nearest')\n",
    "plt.axis('off')\n",
    "plt.title('distance map')\n",
    "plt.subplot(143)\n",
    "plt.imshow(labels_ws, cmap='gray', interpolation='nearest')\n",
    "plt.axis('off')\n",
    "plt.title('watershed segmentation')\n",
    "plt.subplot(144)\n",
    "plt.imshow(labels_rw, cmap='gray', interpolation='nearest')\n",
    "plt.axis('off')\n",
    "plt.title('random walker segmentation')\n",
    "\n",
    "plt.tight_layout()\n",
    "plt.show()"
   ]
  },
  {
   "cell_type": "code",
   "execution_count": null,
   "metadata": {},
   "outputs": [],
   "source": []
  }
 ],
 "metadata": {
  "kernelspec": {
   "display_name": "Python 3",
   "language": "python",
   "name": "python3"
  },
  "language_info": {
   "codemirror_mode": {
    "name": "ipython",
    "version": 3
   },
   "file_extension": ".py",
   "mimetype": "text/x-python",
   "name": "python",
   "nbconvert_exporter": "python",
   "pygments_lexer": "ipython3",
   "version": "3.7.1"
  }
 },
 "nbformat": 4,
 "nbformat_minor": 2
}
