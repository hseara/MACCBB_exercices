{
 "cells": [
  {
   "cell_type": "code",
   "execution_count": null,
   "metadata": {},
   "outputs": [],
   "source": [
    "%matplotlib inline\n",
    "import matplotlib.pyplot as plt\n",
    "\n",
    "import numpy as np\n",
    "\n",
    "from skimage import data,filters,segmentation,morphology,exposure,draw,util\n",
    "from skimage import io as skio"
   ]
  },
  {
   "cell_type": "code",
   "execution_count": null,
   "metadata": {},
   "outputs": [],
   "source": [
    "# Parameters figures\n",
    "plt.rcParams['figure.figsize'] = (15.0, 8.0)\n",
    "#plt.rcParams['image.interpolation'] = 'nearest'\n",
    "plt.rcParams['image.cmap'] = 'gray'\n",
    "#plt.rcParams['figure.dpi'] = 600"
   ]
  },
  {
   "cell_type": "code",
   "execution_count": null,
   "metadata": {},
   "outputs": [],
   "source": [
    "# Read tiff image\n",
    "\n",
    "#Original image\n",
    "img = skio.imread(\"figs/NHAwt_NaCl_c1_488nm_60x_4x10ux_RPM180-1.tif\")\n",
    "#corrected exposure mixture (High contrast)\n",
    "img_corrected_exposure = exposure.adjust_log(img, gain=30)\n",
    "\n",
    "f, axarr = plt.subplots(nrows=1, ncols=2, figsize=(12.0, 12.0))\n",
    "axarr[0].set_title('Original')\n",
    "axarr[0].imshow(img)\n",
    "axarr[1].set_title('Logarithmic correction')\n",
    "axarr[1].imshow(img_corrected_exposure)\n",
    "plt.show()"
   ]
  },
  {
   "cell_type": "markdown",
   "metadata": {},
   "source": [
    "# Edge detection\n",
    "\n",
    "**Sobel operator**: Technically, it is a discrete differentiation operator, computing an approximation of the gradient of the image intensity function. At each point in the image, the result of the Sobel–Feldman operator is either the corresponding gradient vector or the norm of this vector. The Sobel–Feldman operator is based on convolving the image with a small, separable, and integer-valued filter in the horizontal and vertical directions and is therefore relatively inexpensive in terms of computations. On the other hand, the gradient approximation that it produces is relatively crude, in particular for high-frequency variations in the image. "
   ]
  },
  {
   "cell_type": "code",
   "execution_count": null,
   "metadata": {},
   "outputs": [],
   "source": [
    "#img_corrected_exposure = exposure.adjust_log(img, gain=60)\n",
    "blurred = filters.gaussian(img_corrected_exposure, sigma=3.0)\n",
    "sobel = filters.sobel(blurred)\n",
    "#corrected exposure mixture (High contrast)\n",
    "\n",
    "#sobel = filters.sobel(img_corrected_exposure)\n",
    "f, axarr = plt.subplots(nrows=1, ncols=2)\n",
    "#axarr[0].imshow(img)\n",
    "axarr[0].imshow(img_corrected_exposure)\n",
    "axarr[1].imshow(sobel)\n",
    "plt.show()"
   ]
  },
  {
   "cell_type": "code",
   "execution_count": null,
   "metadata": {},
   "outputs": [],
   "source": []
  },
  {
   "cell_type": "code",
   "execution_count": null,
   "metadata": {},
   "outputs": [],
   "source": []
  }
 ],
 "metadata": {
  "kernelspec": {
   "display_name": "Python 3",
   "language": "python",
   "name": "python3"
  },
  "language_info": {
   "codemirror_mode": {
    "name": "ipython",
    "version": 3
   },
   "file_extension": ".py",
   "mimetype": "text/x-python",
   "name": "python",
   "nbconvert_exporter": "python",
   "pygments_lexer": "ipython3",
   "version": "3.6.8"
  }
 },
 "nbformat": 4,
 "nbformat_minor": 2
}
