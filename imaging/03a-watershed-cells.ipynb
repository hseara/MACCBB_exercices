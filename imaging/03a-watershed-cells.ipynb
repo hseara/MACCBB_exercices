{
 "cells": [
  {
   "cell_type": "code",
   "execution_count": null,
   "metadata": {},
   "outputs": [],
   "source": [
    "%matplotlib inline\n",
    "import matplotlib.pyplot as plt\n",
    "\n",
    "import numpy as np\n",
    "\n",
    "from skimage import data,filters,segmentation,morphology,exposure\n",
    "from skimage import io as skio"
   ]
  },
  {
   "cell_type": "code",
   "execution_count": null,
   "metadata": {},
   "outputs": [],
   "source": [
    "# Parameters figures\n",
    "plt.rcParams['figure.figsize'] = (15.0, 8.0)\n",
    "#plt.rcParams['image.interpolation'] = 'nearest'\n",
    "plt.rcParams['image.cmap'] = 'gray'\n",
    "#plt.rcParams['figure.dpi'] = 600"
   ]
  },
  {
   "cell_type": "markdown",
   "metadata": {},
   "source": [
    "# Read image from confocal"
   ]
  },
  {
   "cell_type": "code",
   "execution_count": null,
   "metadata": {},
   "outputs": [],
   "source": [
    "# Read tiff image\n",
    "\n",
    "from skimage import io as skio\n",
    "\n",
    "#Original image\n",
    "img = skio.imread(\"figs/NHAwt_NaCl_c1_488nm_60x_4x10ux_RPM180-1.tif\")\n",
    "#corrected exposure mixture (High contrast)\n",
    "img_corrected_exposure = exposure.adjust_log(img, gain=30)\n",
    "#img_corrected_exposure = exposure.adjust_gamma(img, gain=100)\n",
    "\n",
    "f, axarr = plt.subplots(nrows=1, ncols=2, figsize=(12.0, 12.0))\n",
    "axarr[0].set_title('Original')\n",
    "axarr[0].imshow(img)\n",
    "axarr[1].set_title('Logarithmic correction')\n",
    "axarr[1].imshow(img_corrected_exposure)\n",
    "plt.show()"
   ]
  },
  {
   "cell_type": "code",
   "execution_count": null,
   "metadata": {},
   "outputs": [],
   "source": [
    "hist = exposure.histogram(img, nbins=10)\n",
    "hist_corrected_exposure = exposure.histogram(img_corrected_exposure, nbins=10)\n",
    "f, axarr = plt.subplots(nrows=1, ncols=2)\n",
    "axarr[0].plot(hist[1], hist[0], 'o')\n",
    "axarr[0].set_xscale('log')\n",
    "axarr[0].set_yscale('log')\n",
    "axarr[0].axis((100,60000,1,None))\n",
    "axarr[0].set_title('Histogram original')\n",
    "\n",
    "axarr[1].plot(hist_corrected_exposure[1], hist_corrected_exposure[0], 'o')\n",
    "axarr[1].set_xscale('log')\n",
    "axarr[1].set_yscale('log')\n",
    "axarr[1].axis((100,60000,1,None))\n",
    "axarr[1].set_title('Histogram adjusted exposure')\n",
    "plt.show()"
   ]
  },
  {
   "cell_type": "markdown",
   "metadata": {},
   "source": [
    "# Details Image read"
   ]
  },
  {
   "cell_type": "code",
   "execution_count": null,
   "metadata": {},
   "outputs": [],
   "source": [
    "import exifread\n",
    "# Open image file for reading (binary mode)\n",
    "f = open(\"figs/NHAwt_NaCl_c1_488nm_60x_4x10ux_RPM180-1.tif\", 'rb')\n",
    "\n",
    "# Return Exif tags\n",
    "tags = exifread.process_file(f)\n",
    "\n",
    "# Print the tag/ value pairs\n",
    "for tag in tags.keys():\n",
    "    if tag not in ('JPEGThumbnail', 'TIFFThumbnail', 'Filename', 'EXIF MakerNote', 'Image ImageDescription'):\n",
    "        print(\"Key: {0}, value {1}\".format(tag, tags[tag]))\n",
    "        \n",
    "\n",
    "print(\"\\nImage ImageDescription\")\n",
    "print(tags[\"Image ImageDescription\"].values)\n",
    "#tags_d = tags[\"Image ImageDescription\"]\n",
    "#print(type(tags_d))\n",
    "#print(dir(tags_d))"
   ]
  },
  {
   "cell_type": "code",
   "execution_count": null,
   "metadata": {},
   "outputs": [],
   "source": [
    "# General\n",
    "print(\"shape of image: {0}\".format(img.shape))\n",
    "print(\"realsize 26.4 x 26.5 micrometers; 16 bit, 800K\")\n",
    "print(\"dtype of image: {0}\".format(img.dtype))\n",
    "\n",
    "# Original image\n",
    "print(\"\\nORIGINAL\")\n",
    "print(\"--------\")\n",
    "print(\"Min value pixel = {0}\".format(img.min()))\n",
    "print(\"Max value pixel = {0}\".format(img.max()))\n",
    "\n",
    "#Corrected exposure\n",
    "print(\"\\nCORRECTED EXPOSURE\")\n",
    "print(\"--------\")\n",
    "print(\"Min value pixel = {0}\".format(img_corrected_exposure.min()))\n",
    "print(\"Max value pixel = {0}\".format(img_corrected_exposure.max()))"
   ]
  },
  {
   "cell_type": "code",
   "execution_count": null,
   "metadata": {},
   "outputs": [],
   "source": [
    "manual_background_spots = np.array([[10,10],[600,600]])\n",
    "manual_membrane_spots  = np.array([[230,500],[215,510]])\n",
    "manual_interior_spots  = np.array([[270,480],[200,550]])\n",
    "\n",
    "#Original\n",
    "print(\"ORIGINAL\")\n",
    "print(\"--------\")\n",
    "print(\"I_background: {}\".format(img[tuple(manual_background_spots.T)]))\n",
    "print(\"I_membrane  : {}\".format(img[tuple(manual_membrane_spots.T)]))\n",
    "print(\"I_interior  : {}\".format(img[tuple(manual_interior_spots.T)]))\n",
    "\n",
    "\n",
    "#print(img_corrected_exposure[100][100])\n",
    "#print(img[100][100])\n",
    "\n",
    "#Plot results\n",
    "f, axarr = plt.subplots(nrows=1, ncols=1, figsize=(15,8))\n",
    "plt.title('light spots in image')\n",
    "axarr.imshow(img_corrected_exposure)\n",
    "axarr.plot( manual_background_spots[:, 1], manual_background_spots[:, 0], 'o', color='red')\n",
    "axarr.plot( manual_membrane_spots[:, 1], manual_membrane_spots[:, 0], 'v', color='yellow')\n",
    "axarr.plot( manual_interior_spots[:, 1], manual_interior_spots[:, 0], 's', color='pink')\n",
    "plt.show()"
   ]
  },
  {
   "cell_type": "markdown",
   "metadata": {},
   "source": [
    "# What now?\n",
    "\n",
    "We will remove the background using the following approach:\n",
    "\n",
    "    1. detect edges\n",
    "    2. seed the obtained image to separate background from foreground\n",
    "    3. perform a watershed transformation\n"
   ]
  },
  {
   "cell_type": "markdown",
   "metadata": {},
   "source": [
    "## Detecting the edges"
   ]
  },
  {
   "cell_type": "code",
   "execution_count": null,
   "metadata": {},
   "outputs": [],
   "source": [
    "sobel = filters.sobel(img)\n",
    "#sobel = filters.sobel(img_corrected_exposure)\n",
    "f, axarr = plt.subplots(nrows=1, ncols=2)\n",
    "#axarr[0].imshow(img)\n",
    "axarr[0].imshow(img_corrected_exposure)\n",
    "axarr[0].plot( manual_background_spots[:, 1], manual_background_spots[:, 0], 'o', color='red')\n",
    "axarr[0].plot( manual_membrane_spots[:, 1], manual_membrane_spots[:, 0], 'v', color='yellow')\n",
    "axarr[0].plot( manual_interior_spots[:, 1], manual_interior_spots[:, 0], 's', color='pink')\n",
    "axarr[1].imshow(sobel)\n",
    "plt.show()"
   ]
  },
  {
   "cell_type": "markdown",
   "metadata": {},
   "source": [
    "## blur the image a bit to make the edges thicker"
   ]
  },
  {
   "cell_type": "code",
   "execution_count": null,
   "metadata": {},
   "outputs": [],
   "source": [
    "blurred = filters.gaussian(sobel, sigma=2.0)\n",
    "f, axarr = plt.subplots(nrows=1, ncols=3)\n",
    "#axarr[0].imshow(img)\n",
    "axarr[0].imshow(img_corrected_exposure)\n",
    "axarr[1].imshow(sobel)\n",
    "axarr[2].imshow(blurred)\n",
    "plt.show()\n",
    "\n"
   ]
  },
  {
   "cell_type": "markdown",
   "metadata": {},
   "source": [
    "# Obtaining seeds for the watershed transform"
   ]
  },
  {
   "cell_type": "markdown",
   "metadata": {},
   "source": [
    "To perform a watershed transform on this image, we need to assign classes to the fore and background. There's two ways that I know of to do this:\n",
    "\n",
    "    - use dark and light zone properties of the image\n",
    "    - use local peaks from the distance transformed image\n",
    "\n",
    "Both methods are valid. In this case, let's use the simplest one of the two: dark and light zones."
   ]
  },
  {
   "cell_type": "code",
   "execution_count": null,
   "metadata": {},
   "outputs": [],
   "source": [
    "# Ligt spots\n",
    "light_spots = np.array((img > 555).nonzero()).T # For original image\n",
    "#light_spots = np.array((img_corrected_exposure > 65500).nonzero()).T # For img_corrected_exposure\n",
    "\n",
    "print(\"Shape array = {0}\".format(light_spots.shape))\n",
    "\n",
    "#Plot results\n",
    "f, axarr = plt.subplots(nrows=1, ncols=2)\n",
    "plt.title('light spots in image')\n",
    "axarr[0].imshow(img)\n",
    "#axarr[0].imshow(img_corrected_exposure)\n",
    "axarr[1].plot(light_spots[:, 1], light_spots[:, 0], 'o')\n",
    "axarr[1].imshow(img)\n",
    "#axarr[1].imshow(img_corrected_exposure)\n",
    "plt.show()"
   ]
  },
  {
   "cell_type": "code",
   "execution_count": null,
   "metadata": {},
   "outputs": [],
   "source": [
    "# Dark spots\n",
    "dark_spots = np.array((img < 245).nonzero()).T\n",
    "#dark_spots = np.array((img_corrected_exposure < 39016).nonzero()).T\n",
    "\n",
    "print(\"Shape array = {0}\".format(dark_spots.shape))\n",
    "\n",
    "#Plot results\n",
    "f, axarr = plt.subplots(nrows=1, ncols=2)\n",
    "plt.title('dark spots in image')\n",
    "axarr[0].imshow(img)\n",
    "#axarr[0].imshow(img_corrected_exposure)\n",
    "axarr[1].plot(dark_spots[:, 1], dark_spots[:, 0], 'o')\n",
    "axarr[1].imshow(img)\n",
    "#axarr[1].imshow(img_corrected_exposure)\n",
    "plt.show()"
   ]
  },
  {
   "cell_type": "markdown",
   "metadata": {},
   "source": [
    "# Applying the watershed with a mask by regions"
   ]
  },
  {
   "cell_type": "code",
   "execution_count": null,
   "metadata": {},
   "outputs": [],
   "source": [
    "seed_mask = np.zeros(img.shape, dtype=np.int)\n",
    "\n",
    "seed_mask[tuple(dark_spots.T)] = 1 # background\n",
    "seed_mask[tuple(light_spots.T)] = 2 # foreground\n",
    "\n",
    "\n",
    "ws = morphology.watershed(blurred, seed_mask)\n",
    "#ws = segmentation.random_walker(blurred, seed_mask)\n",
    "\n",
    "#Plot results\n",
    "f, axarr = plt.subplots(nrows=1, ncols=3)\n",
    "axarr[0].imshow(img)\n",
    "axarr[1].imshow(ws)\n",
    "axarr[2].imshow(img_corrected_exposure)\n",
    "\n",
    "plt.show()"
   ]
  },
  {
   "cell_type": "code",
   "execution_count": null,
   "metadata": {},
   "outputs": [],
   "source": [
    "background_spots = np.array((img < 245).nonzero()).T\n",
    "membrane_spots = np.array((img > 780).nonzero()).T # For original image\n",
    "\n",
    "#Manual:\n",
    "interior_spots  = np.array([[270,480],[200,550]])\n",
    "\n",
    "\n",
    "\n",
    "seed_mask = np.zeros(img.shape, dtype=np.int)\n",
    "\n",
    "seed_mask[tuple(background_spots.T)] = 1 # background\n",
    "seed_mask[tuple(membrane_spots.T)] = 2 # membrane\n",
    "seed_mask[tuple(interior_spots.T)] = 3 # interior\n",
    "\n",
    "\n",
    "ws = morphology.watershed(blurred, seed_mask)\n",
    "#ws = segmentation.random_walker(blurred, seed_mask)\n",
    "\n",
    "#Plot results\n",
    "f, axarr = plt.subplots(nrows=1, ncols=2)\n",
    "axarr[0].imshow(img)\n",
    "axarr[1].imshow(ws)\n",
    "plt.show()"
   ]
  },
  {
   "cell_type": "code",
   "execution_count": null,
   "metadata": {},
   "outputs": [],
   "source": []
  },
  {
   "cell_type": "code",
   "execution_count": null,
   "metadata": {},
   "outputs": [],
   "source": []
  }
 ],
 "metadata": {
  "kernelspec": {
   "display_name": "Python 3",
   "language": "python",
   "name": "python3"
  },
  "language_info": {
   "codemirror_mode": {
    "name": "ipython",
    "version": 3
   },
   "file_extension": ".py",
   "mimetype": "text/x-python",
   "name": "python",
   "nbconvert_exporter": "python",
   "pygments_lexer": "ipython3",
   "version": "3.6.8"
  }
 },
 "nbformat": 4,
 "nbformat_minor": 2
}
