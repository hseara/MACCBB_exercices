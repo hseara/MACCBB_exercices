{
 "cells": [
  {
   "cell_type": "code",
   "execution_count": null,
   "metadata": {},
   "outputs": [],
   "source": [
    "%matplotlib inline\n",
    "import matplotlib.pyplot as plt\n",
    "\n",
    "import numpy as np\n",
    "\n",
    "from skimage import data,filters,segmentation,morphology,exposure,draw,util\n",
    "from skimage import io as skio"
   ]
  },
  {
   "cell_type": "code",
   "execution_count": null,
   "metadata": {},
   "outputs": [],
   "source": [
    "# Parameters figures\n",
    "plt.rcParams['figure.figsize'] = (15.0, 8.0)\n",
    "#plt.rcParams['image.interpolation'] = 'nearest'\n",
    "plt.rcParams['image.cmap'] = 'gray'\n",
    "#plt.rcParams['figure.dpi'] = 600"
   ]
  },
  {
   "cell_type": "markdown",
   "metadata": {},
   "source": [
    "## Watershed"
   ]
  },
  {
   "cell_type": "code",
   "execution_count": null,
   "metadata": {},
   "outputs": [],
   "source": [
    "imgC = np.ones((200, 200))\n",
    "rr1, cc1 = draw.circle_perimeter(30, 50, 25)\n",
    "rr2, cc2 = draw.circle_perimeter(130, 80, 20)\n",
    "rr3, cc3 = draw.circle_perimeter(30, 150, 15)\n",
    "\n",
    "imgC[rr1, cc1] = 100\n",
    "imgC[rr2, cc2] = 50\n",
    "imgC[rr3, cc3] = 20\n",
    "imgC = filters.gaussian(imgC, 1)\n",
    "\n",
    "f, axarr = plt.subplots(nrows=1, ncols=1)\n",
    "axarr.imshow(imgC)\n",
    "plt.show()\n",
    "print(imgC.max())"
   ]
  },
  {
   "cell_type": "code",
   "execution_count": null,
   "metadata": {},
   "outputs": [],
   "source": [
    "# Add some noise\n",
    "imgC_noisy = util.random_noise(imgC, mode='speckle',clip=False, var=0.1)\n",
    "\n",
    "f, axarr = plt.subplots(nrows=1, ncols=1)\n",
    "axarr.imshow(imgC_noisy)\n",
    "plt.show()\n",
    "\n",
    "print(imgC_noisy.max())"
   ]
  },
  {
   "cell_type": "code",
   "execution_count": null,
   "metadata": {},
   "outputs": [],
   "source": [
    "#Find background\n",
    "background_spots = np.array((imgC_noisy < 0.4).nonzero()).T\n",
    "\n",
    "f, axarr = plt.subplots(nrows=1, ncols=1)\n",
    "axarr.imshow(imgC_noisy)\n",
    "axarr.plot(background_spots[:, 1], background_spots[:, 0], 'p', color='yellow')\n",
    "plt.show()"
   ]
  },
  {
   "cell_type": "code",
   "execution_count": null,
   "metadata": {},
   "outputs": [],
   "source": [
    "#Find background\n",
    "membrane_spots = np.array((imgC_noisy > 5).nonzero()).T\n",
    "\n",
    "f, axarr = plt.subplots(nrows=1, ncols=1)\n",
    "axarr.imshow(imgC_noisy)\n",
    "axarr.plot(membrane_spots[:, 1], membrane_spots[:, 0], 'p', color='yellow')\n",
    "plt.show()"
   ]
  },
  {
   "cell_type": "code",
   "execution_count": null,
   "metadata": {},
   "outputs": [],
   "source": [
    "seed_mask = np.zeros(imgC.shape, dtype=np.int)\n",
    "\n",
    "seed_mask[tuple(background_spots.T)] = 1 # background\n",
    "seed_mask[tuple(membrane_spots.T)] = 2 # membrane\n",
    "\n",
    "\n",
    "#Plot results\n",
    "f, axarr = plt.subplots(nrows=1, ncols=1)\n",
    "plt.title('Mask')\n",
    "axarr.imshow(imgC_noisy)\n",
    "axarr.imshow(seed_mask, cmap='plasma')\n",
    "plt.show()"
   ]
  },
  {
   "cell_type": "code",
   "execution_count": null,
   "metadata": {},
   "outputs": [],
   "source": [
    "ws = morphology.watershed(imgC_noisy, seed_mask)\n",
    "rw = segmentation.random_walker(imgC_noisy, seed_mask)\n",
    "\n",
    "#Plot results\n",
    "f, axarr = plt.subplots(nrows=1, ncols=2)\n",
    "axarr[0].imshow(imgC)\n",
    "axarr[1].imshow(ws)\n",
    "plt.show()\n",
    "\n",
    "#Plot results\n",
    "f, axarr = plt.subplots(nrows=1, ncols=2)\n",
    "axarr[0].imshow(imgC_noisy)\n",
    "axarr[1].imshow(rw)\n",
    "plt.show()"
   ]
  },
  {
   "cell_type": "code",
   "execution_count": null,
   "metadata": {},
   "outputs": [],
   "source": []
  }
 ],
 "metadata": {
  "kernelspec": {
   "display_name": "Python 3",
   "language": "python",
   "name": "python3"
  },
  "language_info": {
   "codemirror_mode": {
    "name": "ipython",
    "version": 3
   },
   "file_extension": ".py",
   "mimetype": "text/x-python",
   "name": "python",
   "nbconvert_exporter": "python",
   "pygments_lexer": "ipython3",
   "version": "3.7.1"
  }
 },
 "nbformat": 4,
 "nbformat_minor": 2
}
