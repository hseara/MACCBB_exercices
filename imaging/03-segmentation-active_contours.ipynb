{
 "cells": [
  {
   "cell_type": "code",
   "execution_count": null,
   "metadata": {},
   "outputs": [],
   "source": [
    "%matplotlib inline\n",
    "import matplotlib.pyplot as plt\n",
    "\n",
    "import numpy as np\n",
    "import skimage.draw\n",
    "import skimage.filters\n",
    "import skimage.segmentation\n",
    "\n",
    "# Parameters figures\n",
    "plt.rcParams['figure.figsize'] = (15.0, 8.0)"
   ]
  },
  {
   "cell_type": "markdown",
   "metadata": {},
   "source": [
    "# Active contours"
   ]
  },
  {
   "cell_type": "markdown",
   "metadata": {},
   "source": [
    "1- Create and smooth image:"
   ]
  },
  {
   "cell_type": "code",
   "execution_count": null,
   "metadata": {},
   "outputs": [],
   "source": [
    "imgC = np.zeros((100, 100))\n",
    "#rr, cc = draw.circle_perimeter(35, 45, 25)\n",
    "rr, cc = skimage.draw.circle_perimeter(30, 50, 25)\n",
    "imgC[rr, cc] = 1\n",
    "imgC = skimage.filters.gaussian(imgC, 2)\n",
    "\n",
    "f, axarr = plt.subplots(nrows=1, ncols=1)\n",
    "axarr.imshow(imgC, cmap='gray')\n",
    "plt.show()"
   ]
  },
  {
   "cell_type": "markdown",
   "metadata": {},
   "source": [
    "2- Initialize spline:"
   ]
  },
  {
   "cell_type": "code",
   "execution_count": null,
   "metadata": {},
   "outputs": [],
   "source": [
    "s = np.linspace(0, 2*np.pi, 100)\n",
    "x = 10 + 50*np.cos(s)\n",
    "y = 10 + 50*np.sin(s)\n",
    "init = np.array([x, y]).T\n",
    "\n",
    "init = 50 * np.array([np.cos(s), np.sin(s)]).T + 50\n",
    "\n",
    "f, axarr = plt.subplots(nrows=1, ncols=1)\n",
    "axarr.imshow(imgC, cmap='gray')\n",
    "axarr.plot( init[:, 0], init[:, 1], 'v', color='yellow')\n",
    "plt.show()"
   ]
  },
  {
   "cell_type": "markdown",
   "metadata": {},
   "source": [
    "3- Fit spline to image:"
   ]
  },
  {
   "cell_type": "code",
   "execution_count": null,
   "metadata": {},
   "outputs": [],
   "source": [
    "snake = skimage.segmentation.active_contour(imgC, init, w_edge=1, w_line=0)\n",
    "dist = np.sqrt((45-snake[:, 0])**2 + (35-snake[:, 1])**2)\n",
    "print(int(np.mean(dist)))\n",
    "\n",
    "f, axarr = plt.subplots(nrows=1, ncols=1)\n",
    "axarr.imshow(imgC, cmap='gray')\n",
    "axarr.plot( init[:, 0], init[:, 1], '--r', lw=3, color='yellow')\n",
    "axarr.plot( snake[:, 0], snake[:, 1], '-b', lw=3, color='yellow')\n",
    "plt.show()"
   ]
  },
  {
   "cell_type": "code",
   "execution_count": null,
   "metadata": {},
   "outputs": [],
   "source": [
    "snake = skimage.segmentation.active_contour(imgC, init, w_edge=0, w_line=1)\n",
    "dist = np.sqrt((45-snake[:, 0])**2 + (35-snake[:, 1])**2)\n",
    "print(int(np.mean(dist)))\n",
    "\n",
    "f, axarr = plt.subplots(nrows=1, ncols=1)\n",
    "axarr.imshow(imgC, cmap='gray')\n",
    "axarr.plot( init[:, 0], init[:, 1], '--r', lw=3, color='yellow')\n",
    "axarr.plot( snake[:, 0], snake[:, 1], '-b', lw=3, color='red')\n",
    "plt.show()"
   ]
  },
  {
   "cell_type": "code",
   "execution_count": null,
   "metadata": {},
   "outputs": [],
   "source": [
    "# Create and smooth fake three round cells\n",
    "imgC = np.zeros((200, 200))\n",
    "rr1, cc1 = skimage.draw.circle_perimeter(30, 50, 25)\n",
    "rr2, cc2 = skimage.draw.circle_perimeter(130, 80, 20)\n",
    "rr3, cc3 = skimage.draw.circle_perimeter(30, 150, 15)\n",
    "\n",
    "imgC[rr1, cc1] = 3\n",
    "imgC[rr2, cc2] = 2\n",
    "imgC[rr3, cc3] = 1\n",
    "imgC = skimage.filters.gaussian(imgC, 2)\n",
    "\n",
    "\n",
    "#  Initialize spline\n",
    "s = np.linspace(0, 2*np.pi, 100)\n",
    "x = 10 + 50*np.cos(s)\n",
    "y = 10 + 50*np.sin(s)\n",
    "init = np.array([x, y]).T\n",
    "\n",
    "init = 50 * np.array([np.cos(s), np.sin(s)]).T + 50\n",
    "\n",
    "# Active contourn - Snake \n",
    "snake = skimage.segmentation.active_contour(imgC, init, w_edge=0, w_line=1)\n",
    "f, axarr = plt.subplots(nrows=1, ncols=3, figsize=(18, 7))\n",
    "axarr[0].imshow(imgC, cmap='gray')\n",
    "axarr[1].imshow(imgC, cmap='gray')\n",
    "axarr[1].plot( init[:, 0], init[:, 1], '--r', lw=3, color='yellow')\n",
    "axarr[2].imshow(imgC, cmap='gray')\n",
    "axarr[2].plot( snake[:, 0], snake[:, 1], '-b', lw=3, color='red')\n",
    "plt.show()"
   ]
  },
  {
   "cell_type": "code",
   "execution_count": null,
   "metadata": {},
   "outputs": [],
   "source": []
  }
 ],
 "metadata": {
  "kernelspec": {
   "display_name": "Python 3",
   "language": "python",
   "name": "python3"
  },
  "language_info": {
   "codemirror_mode": {
    "name": "ipython",
    "version": 3
   },
   "file_extension": ".py",
   "mimetype": "text/x-python",
   "name": "python",
   "nbconvert_exporter": "python",
   "pygments_lexer": "ipython3",
   "version": "3.6.8"
  }
 },
 "nbformat": 4,
 "nbformat_minor": 2
}
